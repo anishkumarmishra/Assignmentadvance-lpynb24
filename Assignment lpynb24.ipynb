{
  "nbformat": 4,
  "nbformat_minor": 0,
  "metadata": {
    "colab": {
      "provenance": []
    },
    "kernelspec": {
      "name": "python3",
      "display_name": "Python 3"
    },
    "language_info": {
      "name": "python"
    }
  },
  "cells": [
    {
      "cell_type": "markdown",
      "source": [
        "**1. Is it permissible to use several import statements to import the same module? What would the goal be? Can you think of a situation where it would be beneficial ?**\n",
        "\n",
        "**Ans:** Yes, it is permissible to use several import statements to import the same module. It is used in case when we have to import multiple functions from same module."
      ],
      "metadata": {
        "id": "wfH8VE6weVTs"
      }
    },
    {
      "cell_type": "markdown",
      "source": [
        "####**2. What are some of a module's characteristics? (Name at least one.)**\n",
        "**Ans:** The following are some of a module's characteristics:\n",
        "\n",
        "__name__ : It returns the name of the module\n",
        "\n",
        "__doc__ : It denotes the documentation string line written in a module code.\n",
        "\n",
        "__file__ : It holds the name and path of the module file from which it is loaded\n",
        "\n",
        "__dict__ : It return a dictionary object of module attributes, functions and other definitions and their respective values"
      ],
      "metadata": {
        "id": "JYdLObimeghj"
      }
    },
    {
      "cell_type": "markdown",
      "source": [
        "####**3. Circular importing, such as when two modules import each other, can lead to dependencies and bugs that aren't visible. How can you go about creating a program that avoids mutual importing?**\n",
        "**Ans:** Circular importing means importing the two modules in each other. If suppose we are wokring in MOD1.py file and it is importing some function say F2() from some other module say MOD2.PY file or we can do vice-versa. What will happen is: This will give an import error.\n",
        "\n",
        "This is because when we import F2() function from module MOD2.py, then this will execute MOD2.py file. And in MOD2.py file there is an another statement of importing MOD1.py module.\n",
        "\n",
        "This will result in endless loop. To avoid this error just do one thingWe can use if __name__ == '__main__'\n",
        "\n",
        "In the function, you can't directly refer to the function in the program. The addition of this sentence avoids the endless loop of the program ."
      ],
      "metadata": {
        "id": "_Uq79yNyfKQW"
      }
    },
    {
      "cell_type": "markdown",
      "source": [
        "####**4. Why is __all__ in Python ?**\n",
        "**Ans:** It provides list of all modules present in a library."
      ],
      "metadata": {
        "id": "CarDMDPWs7gq"
      }
    },
    {
      "cell_type": "markdown",
      "source": [
        "####**5. In what situation is it useful to refer to the __name__ attribute or the string __main_ _ ?**\n",
        "**Ans:** During the time of execution of the code if we want to refer the module in which we are working on then we uses name attribute. In that case it will return the module in which we are working on. Suppose if that moudle is being imported from some other module then name will have the name of that moudle from where the current module has been imported. The current module in which we are working is refer to the string **__main __.**"
      ],
      "metadata": {
        "id": "Gqc1XCnwtC0T"
      }
    },
    {
      "cell_type": "markdown",
      "source": [
        "####**6. What are some of the benefits of attaching a program counter to the RPN interpreter application, which interprets an RPN script line by line?**\n",
        "**Ans:** RPN predates modern computers. It became useful with the advent of electronic calculators that were not great at handling complex expressions that needed brackets. As such, there is no need for brackets in RPN, because the calculators allow expressions to be entered in unambiguous postfix form."
      ],
      "metadata": {
        "id": "60WG7R1LwCpr"
      }
    },
    {
      "cell_type": "markdown",
      "source": [
        "####**7. What are the minimum expressions or statements (or both) that you&#39;d need to render a basic programming language like RPN primitive but complete— that is, capable of carrying out any computerised task theoretically possible?**\n",
        "**Ans:** An assignment statement always has a single variable on the left hand side. The value of the expression (which can contain math operators and other variables) on the right of the = sign is stored in the variable on the left."
      ],
      "metadata": {
        "id": "ZIEPu5RgwSkb"
      }
    }
  ]
}